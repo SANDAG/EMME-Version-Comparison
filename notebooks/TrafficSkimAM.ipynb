{
 "cells": [
  {
   "cell_type": "markdown",
   "metadata": {},
   "source": [
    "---\n",
    "title: \"AM Peak travel distance skim for SOV NT\"\n",
    "format: \n",
    "  html: \n",
    "    toc: true\n",
    "    css: styles.css\n",
    "jupyter: python3\n",
    "execute:\n",
    "  echo: false\n",
    "---"
   ]
  },
  {
   "cell_type": "code",
   "execution_count": 1,
   "metadata": {},
   "outputs": [],
   "source": [
    "from util import Skim\n",
    "from config import scenarioPath_OpenPath\n",
    "from config import scenarioPath_EMME437\n",
    "import plotly.graph_objects as go\n",
    "\n",
    "import plotly.io as pio\n",
    "pio.renderers.default = \"iframe\""
   ]
  },
  {
   "cell_type": "code",
   "execution_count": 2,
   "metadata": {},
   "outputs": [],
   "source": [
    "# generate comparison\n",
    "scenarioOne = Skim.skimReader(scenarioPath_OpenPath, time_periods='AM',skim='traffic')\n",
    "scenarioTwo = Skim.skimReader(scenarioPath_EMME437, time_periods='AM',skim='traffic')"
   ]
  },
  {
   "cell_type": "code",
   "execution_count": 3,
   "metadata": {},
   "outputs": [],
   "source": [
    "# OpenPaths minus EMME4.3.7 (exclude Origin and Destination columns)\n",
    "comparison = scenarioOne.set_index(['Origin', 'Destination']) - scenarioTwo.set_index(['Origin','Destination'])\n",
    "comparison.reset_index(inplace=True)"
   ]
  },
  {
   "cell_type": "markdown",
   "metadata": {},
   "source": [
    "Comparison table of select matrix from AM Peak traffic skim (top 5)"
   ]
  },
  {
   "cell_type": "code",
   "execution_count": 6,
   "metadata": {},
   "outputs": [
    {
     "data": {
      "text/html": [
       "<style type=\"text/css\">\n",
       "#T_b42c7 thead th {\n",
       "  background-color: blue;\n",
       "}\n",
       "</style>\n",
       "<table id=\"T_b42c7\">\n",
       "  <thead>\n",
       "    <tr>\n",
       "      <th id=\"T_b42c7_level0_col0\" class=\"col_heading level0 col0\" >Origin</th>\n",
       "      <th id=\"T_b42c7_level0_col1\" class=\"col_heading level0 col1\" >Destination</th>\n",
       "      <th id=\"T_b42c7_level0_col2\" class=\"col_heading level0 col2\" >SOV_NT_M_DIST__AM</th>\n",
       "    </tr>\n",
       "  </thead>\n",
       "  <tbody>\n",
       "    <tr>\n",
       "      <td id=\"T_b42c7_row0_col0\" class=\"data row0 col0\" >4908</td>\n",
       "      <td id=\"T_b42c7_row0_col1\" class=\"data row0 col1\" >1383</td>\n",
       "      <td id=\"T_b42c7_row0_col2\" class=\"data row0 col2\" >12.414185</td>\n",
       "    </tr>\n",
       "    <tr>\n",
       "      <td id=\"T_b42c7_row1_col0\" class=\"data row1 col0\" >535</td>\n",
       "      <td id=\"T_b42c7_row1_col1\" class=\"data row1 col1\" >71</td>\n",
       "      <td id=\"T_b42c7_row1_col2\" class=\"data row1 col2\" >11.900368</td>\n",
       "    </tr>\n",
       "    <tr>\n",
       "      <td id=\"T_b42c7_row2_col0\" class=\"data row2 col0\" >489</td>\n",
       "      <td id=\"T_b42c7_row2_col1\" class=\"data row2 col1\" >71</td>\n",
       "      <td id=\"T_b42c7_row2_col2\" class=\"data row2 col2\" >11.590210</td>\n",
       "    </tr>\n",
       "    <tr>\n",
       "      <td id=\"T_b42c7_row3_col0\" class=\"data row3 col0\" >4762</td>\n",
       "      <td id=\"T_b42c7_row3_col1\" class=\"data row3 col1\" >4521</td>\n",
       "      <td id=\"T_b42c7_row3_col2\" class=\"data row3 col2\" >11.154755</td>\n",
       "    </tr>\n",
       "    <tr>\n",
       "      <td id=\"T_b42c7_row4_col0\" class=\"data row4 col0\" >4867</td>\n",
       "      <td id=\"T_b42c7_row4_col1\" class=\"data row4 col1\" >1108</td>\n",
       "      <td id=\"T_b42c7_row4_col2\" class=\"data row4 col2\" >11.036835</td>\n",
       "    </tr>\n",
       "  </tbody>\n",
       "</table>\n"
      ],
      "text/plain": [
       "<pandas.io.formats.style.Styler at 0x2a4567cbac0>"
      ]
     },
     "execution_count": 6,
     "metadata": {},
     "output_type": "execute_result"
    }
   ],
   "source": [
    "comparison.sort_values(by='SOV_NT_M_DIST__AM', ascending=False).head().style.set_table_styles(\n",
    "    [{'selector': 'thead th', 'props': [('background-color', 'blue')]}]  # Custom header style\n",
    ").hide(axis = \"index\")"
   ]
  },
  {
   "cell_type": "code",
   "execution_count": 5,
   "metadata": {
    "scrolled": true
   },
   "outputs": [
    {
     "data": {
      "text/html": [
       "<iframe\n",
       "    scrolling=\"no\"\n",
       "    width=\"100%\"\n",
       "    height=\"545px\"\n",
       "    src=\"iframe_figures/figure_5.html\"\n",
       "    frameborder=\"0\"\n",
       "    allowfullscreen\n",
       "></iframe>\n"
      ]
     },
     "metadata": {},
     "output_type": "display_data"
    }
   ],
   "source": [
    "# Histogram with custom bin settings\n",
    "fig = go.Figure(data=[go.Histogram(\n",
    "    x=comparison['SOV_NT_M_DIST__AM'],\n",
    "    xbins=dict(\n",
    "        start=-5,     # Start bin at -5\n",
    "        end=5,        # End bin at 5\n",
    "        size=0.25      # Bin size of 0.25\n",
    "    )\n",
    ")])\n",
    "\n",
    "\n",
    "fig.update_layout(title=\"Histogram of skim difference: AM SOV NT distance\", xaxis_title=\"Impedance difference (OpenPath - EMME437)\", yaxis_title=\"O-D pairs\")\n",
    "fig.show()"
   ]
  }
 ],
 "metadata": {
  "kernelspec": {
   "display_name": "Python 3 (ipykernel)",
   "language": "python",
   "name": "python3"
  },
  "language_info": {
   "codemirror_mode": {
    "name": "ipython",
    "version": 3
   },
   "file_extension": ".py",
   "mimetype": "text/x-python",
   "name": "python",
   "nbconvert_exporter": "python",
   "pygments_lexer": "ipython3",
   "version": "3.8.17"
  }
 },
 "nbformat": 4,
 "nbformat_minor": 2
}
